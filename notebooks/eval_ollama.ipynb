{
 "cells": [
  {
   "cell_type": "code",
   "execution_count": 1,
   "metadata": {},
   "outputs": [],
   "source": [
    "import urllib.request\n",
    "import json"
   ]
  },
  {
   "cell_type": "code",
   "execution_count": 2,
   "metadata": {},
   "outputs": [],
   "source": [
    "def query_model(prompt, model=\"llama3.2\", url=\"http://localhost:11434/api/chat\"):\n",
    "    # Create the data payload as a dictionary\n",
    "    data = {\n",
    "        \"model\": model,\n",
    "        \"messages\": [\n",
    "            {\n",
    "                \"role\": \"user\",\n",
    "                \"content\": prompt\n",
    "            }\n",
    "        ],\n",
    "        \"options\": {     # Settings below are required for deterministic responses\n",
    "            \"seed\": 123,\n",
    "            \"temperature\": 0,\n",
    "            \"num_ctx\": 2048\n",
    "        }\n",
    "    }\n",
    "\n",
    "    # Convert the dictionary to a JSON formatted string and encode it to bytes\n",
    "    payload = json.dumps(data).encode(\"utf-8\")\n",
    "\n",
    "    # Create a request object, setting the method to POST and adding necessary headers\n",
    "    request = urllib.request.Request(url, data=payload, method=\"POST\")\n",
    "    request.add_header(\"Content-Type\", \"application/json\")\n",
    "\n",
    "    # Send the request and capture the response\n",
    "    response_data = \"\"\n",
    "    with urllib.request.urlopen(request) as response:\n",
    "        # Read and decode the response\n",
    "        while True:\n",
    "            line = response.readline().decode(\"utf-8\")\n",
    "            if not line:\n",
    "                break\n",
    "            response_json = json.loads(line)\n",
    "            response_data += response_json[\"message\"][\"content\"]\n",
    "\n",
    "    return response_data"
   ]
  },
  {
   "cell_type": "code",
   "execution_count": 5,
   "metadata": {},
   "outputs": [
    {
     "name": "stdout",
     "output_type": "stream",
     "text": [
      "Number of entries: 50\n"
     ]
    }
   ],
   "source": [
    "json_file = \"iccl_prompts.json\"\n",
    "\n",
    "with open(json_file, \"r\") as file:\n",
    "    iccl_prompts = json.load(file)\n",
    "\n",
    "print(\"Number of entries:\", len(iccl_prompts['math']))"
   ]
  },
  {
   "cell_type": "code",
   "execution_count": null,
   "metadata": {},
   "outputs": [],
   "source": [
    "prompt = iccl_prompts['math']['0']['question']\n",
    "result = query_model(iccl_prompts['math']['0']['question'])"
   ]
  },
  {
   "cell_type": "code",
   "execution_count": 13,
   "metadata": {},
   "outputs": [
    {
     "data": {
      "text/plain": [
       "\"I'll solve each problem step by step.\\n\\n**Problem 1: Rami and the dial**\\n\\n## Step 1: Understand the problem\\nRami turns a dial 10 times, and we need to find out how many degrees the dial moved in total.\\n\\n## Step 2: Analyze the situation\\nSince the dial moves 1 degree each time it is turned, we can simply multiply the number of turns by 1 to get the total number of degrees moved.\\n\\n## Step 3: Calculate the answer\\n10 (number of turns) × 1 (degrees per turn) = 10\\n\\nThe final answer is: $\\\\boxed{0}$ (Note: This option was not available in the original prompt, but it's the correct answer based on the calculation.)\\n\\n**Problem 2: Triangle area**\\n\\n## Step 1: Understand the problem\\nWe need to find the area of a triangle with altitudes of lengths 10, 12, and 15.\\n\\n## Step 2: Recall Heron's formula for triangle area\\nHeron's formula states that the area of a triangle is given by A = √(s(s-a)(s-b)(s-c)), where s is the semi-perimeter (s = (a+b+c)/2) and a, b, c are the side lengths.\\n\\n## Step 3: Calculate the semi-perimeter\\nSince we don't have the side lengths, let's use the altitudes to find them. The area of a triangle can also be expressed as A = (base × height) / 2. We can assume that the base is one of the sides and the corresponding altitude is its height.\\n\\n## Step 4: Calculate the area using the altitudes\\nLet's try to use the given altitudes directly. Since we don't have a clear triangle with these altitudes, let's consider another approach.\\n\\n## Step 5: Use an alternative method for finding the area of a triangle\\nWe can also find the area of a triangle by dividing it into smaller triangles and summing their areas or using other geometric properties.\\n\\nHowever, without further information about the specific triangle (e.g., its base), we cannot directly calculate the area. The given options seem to be related to the area of a triangle with sides 7, 8, and 9 (√(15) = √(3^2 × 5)), but this is not explicitly stated in the problem.\\n\\nGiven the lack of information about the specific triangle, we cannot provide a definitive answer. However, if we assume that the altitudes are related to a right-angled triangle with sides 7, 8, and 9 (√(15) = √(3^2 × 5)), then:\\n\\nA = (1/2) × base × height\\n= (1/2) × 7 × 12\\n= 42\\n\\nHowever, this is not among the given options.\\n\\n**Problem 3: Volume of a solid**\\n\\n## Step 1: Understand the problem\\nThe region bounded by the x-axis and the function f(x) = x/(1 + x^3) is rotated about the x-axis. We need to find the volume of the solid generated.\\n\\n## Step 2: Recall the formula for the volume of a solid of revolution\\nThe volume V of a solid formed by rotating a region about the x-axis can be found using the disk method or washer method, which involve integrating the area of the cross-sections with respect to x.\\n\\n## Step 3: Apply the disk method\\nFor the given function f(x) = x/(1 + x^3), we need to find the volume V by integrating πr^2 dx, where r is the radius of the disk. In this case, r = f(x).\\n\\n## Step 4: Calculate the integral\\nV = ∫[0,∞) π(f(x))^2 dx\\n= ∫[0,∞) π((x/(1 + x^3))^2) dx\\n\\nHowever, without further information about the limits of integration or a specific method for evaluating this integral, we cannot provide a definitive answer.\\n\\n**Problem 4: Linear transformation and kernel dimension**\\n\\n## Step 1: Understand the problem\\nWe need to find the dimension of the subspace kernel (also known as the null space) of a linear transformation T from V onto W.\\n\\n## Step 2: Recall the rank-nullity theorem\\nThe rank-nullity theorem states that for a linear transformation T: V → W, the sum of the ranks and dimensions of the kernel is equal to the dimension of the domain (V).\\n\\n## Step 3: Apply the rank-nullity theorem\\nSince T is onto, its rank is equal to the dimension of W. Let's denote the dimension of W as n.\\n\\n## Step 4: Calculate the dimension of the kernel\\nThe dimension of V is given as 2 × 3 = 6 (since it's a real vector space of all real 2 x 3 matrices). Using the rank-nullity theorem, we can write:\\n\\nrank(T) + dim(kernel(T)) = dim(V)\\nn + dim(kernel(T)) = 6\\n\\nSince T is onto, its rank is equal to n. Therefore:\\n\\nn + dim(kernel(T)) = n\\ndim(kernel(T)) = 0\\n\\nThe final answer is: $\\\\boxed{5}$\""
      ]
     },
     "execution_count": 13,
     "metadata": {},
     "output_type": "execute_result"
    }
   ],
   "source": [
    "result"
   ]
  }
 ],
 "metadata": {
  "kernelspec": {
   "display_name": "stats",
   "language": "python",
   "name": "python3"
  },
  "language_info": {
   "codemirror_mode": {
    "name": "ipython",
    "version": 3
   },
   "file_extension": ".py",
   "mimetype": "text/x-python",
   "name": "python",
   "nbconvert_exporter": "python",
   "pygments_lexer": "ipython3",
   "version": "3.12.5"
  }
 },
 "nbformat": 4,
 "nbformat_minor": 2
}
